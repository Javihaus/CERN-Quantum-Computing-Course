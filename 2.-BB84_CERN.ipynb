{
 "cells": [
  {
   "cell_type": "markdown",
   "metadata": {},
   "source": [
    "# BB84\n",
    "\n",
    "We are going to use Qiskit to simulate the BB84 protocol\n",
    "\n",
    "We will use the circuit from our previous notebook to generate random bits"
   ]
  },
  {
   "cell_type": "code",
   "execution_count": 2,
   "metadata": {},
   "outputs": [
    {
     "data": {
      "image/png": "[encoded data removed]",
      "text/plain": [
       "<Figure size 233.576x144.48 with 1 Axes>"
      ]
     },
     "execution_count": 2,
     "metadata": {},
     "output_type": "execute_result"
    }
   ],
   "source": [
    "%matplotlib inline\n",
    "\n",
    "from qiskit import *\n",
    "from qiskit.visualization import *\n",
    "from qiskit.tools.monitor import *\n",
    "\n",
    "circ_random = QuantumCircuit(1,1) # We need qubit and one classical bit\n",
    "\n",
    "circ_random.h(0) #We apply the H gate\n",
    "\n",
    "circ_random.measure(range(1),range(1)) # Measure\n",
    "\n",
    "circ_random.draw(output='mpl')"
   ]
  },
  {
   "cell_type": "code",
   "execution_count": 3,
   "metadata": {
    "scrolled": true
   },
   "outputs": [
    {
     "name": "stdout",
     "output_type": "stream",
     "text": [
      "[0, 0, 0, 0, 1, 0, 0, 0, 0, 0, 1, 0, 1, 1, 0, 1, 1, 1, 0, 0, 0, 0, 0, 0, 0, 0, 0, 1, 0, 0, 1, 0, 0, 1, 1, 1, 0, 1, 1, 1, 1, 0, 0, 1, 0, 0, 1, 0, 1, 0, 1, 1, 1, 1, 0, 1, 0, 0, 0, 1, 1, 0, 0, 1, 0, 0, 0, 0, 0, 1, 1, 1, 1, 1, 0, 1, 0, 0, 0, 1, 1, 0, 1, 1, 0, 1, 0, 0, 1, 0, 0, 0, 1, 1, 0, 0, 1, 1, 0, 1]\n"
     ]
    }
   ],
   "source": [
    "n = 100 # Number of bits that we are going to use\n",
    "\n",
    "# Alice generates n random bits (some of these bits will form the key)\n",
    "\n",
    "backend = Aer.get_backend('qasm_simulator')\n",
    "job = execute(circ_random, backend, shots=n, memory = True) # We set the 'memory' parameter to true to be able to access the string of results\n",
    "bits_alice = [int(q) for q in job.result().get_memory()] \n",
    "print(bits_alice)"
   ]
  },
  {
   "cell_type": "code",
   "execution_count": 4,
   "metadata": {},
   "outputs": [
    {
     "name": "stdout",
     "output_type": "stream",
     "text": [
      "[1, 0, 0, 0, 0, 0, 1, 1, 0, 1, 0, 0, 0, 1, 0, 0, 1, 1, 1, 0, 0, 0, 0, 0, 0, 0, 0, 0, 1, 1, 1, 1, 1, 1, 1, 0, 1, 0, 1, 0, 1, 0, 1, 0, 0, 1, 1, 1, 1, 1, 1, 1, 0, 0, 1, 1, 1, 0, 1, 0, 1, 1, 1, 0, 1, 1, 0, 1, 1, 0, 1, 0, 0, 0, 1, 1, 1, 0, 1, 0, 0, 1, 1, 0, 0, 1, 0, 1, 1, 0, 1, 1, 1, 0, 1, 0, 0, 0, 0, 0]\n"
     ]
    }
   ],
   "source": [
    "# Alice randomly chooses the bases in which she is going to measure\n",
    "\n",
    "job = execute(circ_random, backend, shots=n, memory = True)\n",
    "basis_alice = [int(q) for q in job.result().get_memory()] \n",
    "print(basis_alice)"
   ]
  },
  {
   "cell_type": "code",
   "execution_count": 5,
   "metadata": {},
   "outputs": [
    {
     "name": "stdout",
     "output_type": "stream",
     "text": [
      "[1, 0, 0, 0, 1, 1, 1, 1, 1, 0, 1, 0, 1, 0, 1, 0, 1, 0, 1, 1, 0, 1, 1, 1, 1, 0, 1, 0, 0, 1, 0, 0, 1, 0, 1, 1, 1, 0, 1, 0, 1, 0, 0, 0, 0, 0, 0, 0, 1, 1, 0, 1, 0, 0, 0, 0, 0, 0, 0, 0, 1, 0, 1, 1, 0, 1, 0, 1, 0, 0, 0, 0, 1, 1, 0, 0, 1, 1, 0, 1, 0, 1, 0, 1, 0, 0, 0, 0, 1, 0, 0, 0, 1, 1, 0, 1, 1, 1, 1, 1]\n"
     ]
    }
   ],
   "source": [
    "# Bob also chooses at random the bases in which he will measure\n",
    "\n",
    "job = execute(circ_random, backend, shots=n, memory = True)\n",
    "basis_bob = [int(q) for q in job.result().get_memory()] \n",
    "print(basis_bob)"
   ]
  },
  {
   "cell_type": "code",
   "execution_count": 6,
   "metadata": {},
   "outputs": [
    {
     "name": "stdout",
     "output_type": "stream",
     "text": [
      "[0, 0, 0, 0, 0, 1, 0, 0, 1, 0, 1, 0, 0, 1, 1, 1, 1, 1, 0, 0, 0, 0, 1, 0, 0, 0, 1, 1, 0, 0, 0, 0, 0, 0, 1, 1, 0, 1, 1, 1, 1, 0, 1, 1, 0, 1, 0, 1, 1, 0, 1, 1, 1, 1, 0, 1, 1, 0, 0, 1, 1, 1, 0, 0, 0, 0, 0, 0, 1, 1, 1, 1, 0, 0, 0, 1, 0, 1, 1, 1, 1, 0, 1, 0, 0, 0, 0, 0, 1, 0, 0, 0, 1, 0, 0, 0, 1, 0, 0, 0]\n"
     ]
    }
   ],
   "source": [
    "# Now, Alice codes each bit of her initial string as a qubit and sends it to Bob, who measures in his basis\n",
    "\n",
    "bits_bob = []\n",
    "\n",
    "for i in range(n):\n",
    "    circ_send = QuantumCircuit(1,1)\n",
    "    if bits_alice[i]:  # Alice has to send '1'\n",
    "        circ_send.x(0)\n",
    "    if basis_alice[i]: # Alice codes in basis |+>, |->\n",
    "        circ_send.h(0)\n",
    "        \n",
    "    # Alice sends the qubit to Bob and he measures\n",
    "    \n",
    "    if basis_bob[i]: # Bob has to measure in basis |+>, |->\n",
    "        circ_send.h(0) \n",
    "    \n",
    "    circ_send.measure(0,0)\n",
    "    \n",
    "    job = execute(circ_send, backend, shots = 1, memory = True)\n",
    "    bits_bob.append(int(job.result().get_memory()[0]))\n",
    "    \n",
    "print(bits_bob)\n",
    "    "
   ]
  },
  {
   "cell_type": "code",
   "execution_count": 7,
   "metadata": {},
   "outputs": [
    {
     "name": "stdout",
     "output_type": "stream",
     "text": [
      "Key length 46\n",
      "[0, 0, 0, 0, 0, 0, 0, 1, 1, 0, 0, 0, 1, 0, 0, 1, 0, 1, 1, 1, 1, 0, 1, 0, 1, 0, 1, 1, 1, 0, 1, 1, 0, 0, 0, 0, 1, 1, 0, 1, 0, 0, 0, 1, 0, 1]\n"
     ]
    }
   ],
   "source": [
    "# Bob tells Alice the basis he used for his measurements \n",
    "# Alice confirms which of the basis are correct\n",
    "\n",
    "key = []\n",
    "\n",
    "for i in range(n):\n",
    "    if basis_alice[i] == basis_bob[i]:\n",
    "        key.append(bits_bob[i])\n",
    "        \n",
    "print(\"Key length\", len(key))\n",
    "print(key)"
   ]
  },
  {
   "cell_type": "code",
   "execution_count": null,
   "metadata": {},
   "outputs": [],
   "source": []
  }
 ],
 "metadata": {
  "kernelspec": {
   "display_name": "Python 3",
   "language": "python",
   "name": "python3"
  },
  "language_info": {
   "codemirror_mode": {
    "name": "ipython",
    "version": 3
   },
   "file_extension": ".py",
   "mimetype": "text/x-python",
   "name": "python",
   "nbconvert_exporter": "python",
   "pygments_lexer": "ipython3",
   "version": "3.8.2"
  }
 },
 "nbformat": 4,
 "nbformat_minor": 4
}
